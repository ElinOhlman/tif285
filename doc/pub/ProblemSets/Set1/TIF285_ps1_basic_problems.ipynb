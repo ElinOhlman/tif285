{
 "cells": [
  {
   "cell_type": "markdown",
   "metadata": {},
   "source": [
    "## Instructions\n",
    "- See deadline on the course web page\n",
    "- See examination rules on the course web page.\n",
    "- This problem set is performed individually (collaboration is encouraged, but each individual must be able to explain all of his/her hand-in solutions).\n",
    "- The two notebooks for each problem set contain a number of basic and extra problems; you can choose which and how many to work on.\n",
    "- Many problems are automatically graded using `assert` statements. You should check that your code passes these statements without raising an `AssertionError`. Note that there might be additional, hidden tests that must be passed for full credit. In addition, some tasks are either completely manually graded or part-automatic/part-manual.\n",
    "\n",
    "- **Important:** Hand-in is performed through the following actions:\n",
    "  - Make sure to always complete **Task 0** in the header part of the notebook. \n",
    "  - Upload your solution in the form of your edited version of this jupyter notebook via the appropriate module in Canvas.\n",
    "  - The name of the uploaded file **must be the same as the original one**!\n",
    "  \n",
    "  Note that the hand-in might not be automatically graded if you have changed the name of the uploaded file."
   ]
  },
  {
   "cell_type": "markdown",
   "metadata": {},
   "source": [
    "Before you turn this problem in, make sure everything runs as expected. First, **restart the kernel** (in the menubar, select Kernel$\\rightarrow$Restart) and then **run all cells** (in the menubar, select Cell$\\rightarrow$Run All).\n",
    "\n",
    "Your solutions are usually expected where it says `YOUR CODE HERE` or <font color=\"red\">\"PLEASE WRITE YOUR ANSWER HERE\"</font>."
   ]
  },
  {
   "cell_type": "markdown",
   "metadata": {},
   "source": [
    "### Task 0 \n",
    "#### (0 points)\n",
    "Fill your personal details in the dictionary 'student' with the following key/value pairs:\n",
    "- **Lastname**: Your lastname as a string\n",
    "- **Firstname**: Your firstname as a string\n",
    "- **DOB-year**: The year for your date of birth as a four-digit integer\n",
    "- **DOB-month**: The month for your date of birth as an integer (1-12)\n",
    "- **DOB-day**: The year for your date of birth as an integer (1-31)\n",
    "- **CID**: Your Chalmers login ID as a string"
   ]
  },
  {
   "cell_type": "code",
   "execution_count": 1,
   "metadata": {
    "deletable": false,
    "nbgrader": {
     "cell_type": "code",
     "checksum": "e4b41fd8e57932c927ede3a155032c98",
     "grade": false,
     "grade_id": "student_info",
     "locked": false,
     "schema_version": 3,
     "solution": true,
     "task": false
    }
   },
   "outputs": [],
   "source": [
    "student={}\n",
    "# Update the values below. Note the formats.\n",
    "student['Lastname']='Ohlman'  # string\n",
    "student['Firstname']='Elin' # string\n",
    "student['CID']='ohlman'        # string\n",
    "student['DOB-year']=1998        # four-digit integer\n",
    "student['DOB-month']=6           # integer in the range [1, 12]\n",
    "student['DOB-day']=18             # integer in the range [1, 31]\n",
    "\n",
    "# \n",
    "# YOUR CODE HERE\n",
    "# "
   ]
  },
  {
   "cell_type": "code",
   "execution_count": 2,
   "metadata": {
    "deletable": false,
    "editable": false,
    "nbgrader": {
     "cell_type": "code",
     "checksum": "04fad85b593dac43e9a577b7ad0eda92",
     "grade": true,
     "grade_id": "correct_student_info",
     "locked": true,
     "points": 0,
     "schema_version": 3,
     "solution": false,
     "task": false
    }
   },
   "outputs": [],
   "source": [
    "for key in ['Lastname', 'Firstname','CID']:\n",
    "    assert type(student[key]) is str, f'{key} is wrong type.'\n",
    "    assert student[key] not in ['name_here','cid_here'],\\\n",
    "        f'Fill your {key} as a string.'\n",
    "\n",
    "for key in ['DOB-year', 'DOB-month','DOB-day']:\n",
    "    assert type(student[key]) is int, f'{key} is wrong type.'\n",
    "\n",
    "assert (student['DOB-year'] > 1900 and student['DOB-year'] < 2100)\n",
    "assert student['DOB-month'] in range(1,13), \\\n",
    "    'DOB month should be an integer in the range [1, 12]'\n",
    "assert student['DOB-day'] in range(1,32), \\\n",
    "    'DOB day should be an integer in the range [1, 31]'"
   ]
  },
  {
   "cell_type": "markdown",
   "metadata": {},
   "source": [
    "# Problem Set 1\n",
    "## Basic problems\n",
    "### Learning from data [TIF285], Chalmers, Fall 2020\n",
    "\n",
    "Last revised: 29-Aug-2020 by Christian Forssén [christian.forssen@chalmers.se]"
   ]
  },
  {
   "cell_type": "markdown",
   "metadata": {},
   "source": [
    "## Problem 1\n",
    "### (1 point)"
   ]
  },
  {
   "cell_type": "markdown",
   "metadata": {},
   "source": [
    "#### Installations\n",
    "Perform the installations and preparations that are described in the Getting Started instructions. At the end you should have:\n",
    "\n",
    "1. downloaded the current version of the course material from the github repository or from the course web page;\n",
    "2. a running python installation that includes the modules listed in the environment.yml file (e.g. numpy, matplotlib, pandas, emcee, scikit-learn, ...);\n",
    "3. been able to open and run the Jupyter Notebooks with the first week excercises.\n",
    "Ask the computer lab supervisors for assistance if needed."
   ]
  },
  {
   "cell_type": "code",
   "execution_count": 23,
   "metadata": {
    "deletable": false,
    "nbgrader": {
     "cell_type": "code",
     "checksum": "9704f3e29d2d73008989e3a259d9a77d",
     "grade": false,
     "grade_id": "import",
     "locked": false,
     "schema_version": 3,
     "solution": true,
     "task": false
    }
   },
   "outputs": [],
   "source": [
    "# Module needed for grading tests\n",
    "import sys\n",
    "\n",
    "# Make sure that you are running python with version >= 3.x\n",
    "#\n",
    "# Import the following python modules with\n",
    "# the specified abreviations:\n",
    "# ---\n",
    "# numpy as np\n",
    "# scipy as scipy\n",
    "# matplotlib.pyplot as plt\n",
    "# pandas as pd\n",
    "# sklearn as skl\n",
    "# emcee as emcee\n",
    "\n",
    "\n",
    "# \n",
    "# YOUR CODE HERE\n",
    "# \n",
    "\n",
    "import numpy as np\n",
    "import scipy as scipy\n",
    "import matplotlib.pyplot as plt\n",
    "import pandas as pd\n",
    "import sklearn as skl\n",
    "import emcee as emcee"
   ]
  },
  {
   "cell_type": "code",
   "execution_count": 4,
   "metadata": {
    "deletable": false,
    "editable": false,
    "nbgrader": {
     "cell_type": "code",
     "checksum": "bfee420a6338ea59afc21a227ee18577",
     "grade": true,
     "grade_id": "correct_import",
     "locked": true,
     "points": 1,
     "schema_version": 3,
     "solution": false,
     "task": false
    }
   },
   "outputs": [],
   "source": [
    "assert sys.version_info.major>=3, \\\n",
    "    'You are running Python version'+\\\n",
    "    f'{sys.version_info.major}.{sys.version_info.minor}'\n",
    "\n",
    "modules = [('numpy','np'), ('scipy', 'scipy'), \\\n",
    "           ('matplotlib.pyplot', 'plt'), ('pandas', 'pd'), \\\n",
    "           ('sklearn', 'skl'), ('emcee', 'emcee')]\n",
    "for (_module, _module_abbrev) in modules:\n",
    "    assert _module in sys.modules and _module_abbrev in dir(),\\\n",
    "        f'Module {_module} not loaded properly.'"
   ]
  },
  {
   "cell_type": "markdown",
   "metadata": {},
   "source": [
    "## Problem 2\n",
    "### (3 points)"
   ]
  },
  {
   "cell_type": "markdown",
   "metadata": {},
   "source": [
    "#### Generate data"
   ]
  },
  {
   "cell_type": "code",
   "execution_count": 5,
   "metadata": {
    "deletable": false,
    "editable": false,
    "nbgrader": {
     "cell_type": "code",
     "checksum": "47c6cb65850cb89a64545128c144f8a1",
     "grade": false,
     "grade_id": "cell-a0b708936a108258",
     "locked": true,
     "schema_version": 3,
     "solution": false,
     "task": false
    }
   },
   "outputs": [],
   "source": [
    "# Generate noisy data with a quadratic feature\n",
    "# use the following code:\n",
    "np.random.seed(42)\n",
    "m = 100 # Number of data\n",
    "\n",
    "# X are picked uniform random [0,2]\n",
    "X = 2 * np.random.rand(m, 1)\n",
    "# Linear relation to the predicted value, but with Gaussian noise (mean=0, variance=1)\n",
    "y = 0.5 * X**2 + X + 2 + 0.2 * np.random.randn(m, 1)"
   ]
  },
  {
   "cell_type": "markdown",
   "metadata": {},
   "source": [
    "#### (a) Perform a linear regression using the Normal Equation\n",
    "Create the design matrix for a quadratic polynomial and solve the normal equation using matrix inversion."
   ]
  },
  {
   "cell_type": "code",
   "execution_count": 24,
   "metadata": {
    "deletable": false,
    "nbgrader": {
     "cell_type": "code",
     "checksum": "f281da58c59dffe144d18c64b30cf347",
     "grade": false,
     "grade_id": "design_matrix",
     "locked": false,
     "schema_version": 3,
     "solution": true,
     "task": false
    }
   },
   "outputs": [],
   "source": [
    "def design_matrix(X, degree=2):\n",
    "    \"\"\"\n",
    "    Returns a design matrix.\n",
    "    \n",
    "    Args:\n",
    "        X: Array of shape (m,1) with 'm' independent data.\n",
    "        degree: Integer with the degree of the polynomial. \n",
    "                  Note that a degree-n polynomial has n+1 coefficients.\n",
    "                  \n",
    "    Returns:\n",
    "        X_d: Design matrix of shape (m, order+1).\n",
    "    \"\"\"\n",
    "    # \n",
    "    # YOUR CODE HERE\n",
    "    # \n",
    "\n",
    "    m = len(X)\n",
    "    X_d = np.ones((m,degree+1)) #create a matrix with the size of the design matrix\n",
    "    for i in range(0,m):\n",
    "        for j in range(0,degree+1):\n",
    "            X_d[i][j]=X[i][0]**j\n",
    "    \n",
    "    return X_d"
   ]
  },
  {
   "cell_type": "code",
   "execution_count": 25,
   "metadata": {
    "deletable": false,
    "editable": false,
    "nbgrader": {
     "cell_type": "code",
     "checksum": "a2bf96c872bc417abf01f99b35e81db2",
     "grade": true,
     "grade_id": "correct_design_matrix",
     "locked": true,
     "points": 1,
     "schema_version": 3,
     "solution": false,
     "task": false
    }
   },
   "outputs": [],
   "source": [
    "assert design_matrix(X).shape == (len(X),3)\n",
    "assert design_matrix(X)[:,0].all() == 1\n",
    "assert design_matrix(X)[0,1] == X[0]\n",
    "assert design_matrix(X)[0,2] == X[0]**2"
   ]
  },
  {
   "cell_type": "code",
   "execution_count": 26,
   "metadata": {
    "deletable": false,
    "nbgrader": {
     "cell_type": "code",
     "checksum": "350da970376594885f058c64685baf17",
     "grade": false,
     "grade_id": "solve_normal_equation",
     "locked": false,
     "schema_version": 3,
     "solution": true,
     "task": false
    }
   },
   "outputs": [],
   "source": [
    "def solve_normal_equation(X_d, y):\n",
    "    \"\"\"\n",
    "    Solve the normal equation.\n",
    "    \n",
    "    Args:\n",
    "        X_d: Design matrix of shape (m,n) with 'm' independent data\n",
    "               and 'n' features.\n",
    "        y: Dependent data of shape (m,1).\n",
    "                  \n",
    "    Returns:\n",
    "        theta_best: Best parameters, array of shape (n,).\n",
    "    \"\"\"\n",
    "    # \n",
    "    # YOUR CODE HERE\n",
    "    # \n",
    "    theta = np.matmul(np.linalg.inv(np.matmul(np.transpose(X_d),X_d)),np.matmul(np.transpose(X_d),y)) \n",
    "    theta = theta.flatten() # to make theta the correct shape\n",
    "    return theta\n",
    "    "
   ]
  },
  {
   "cell_type": "code",
   "execution_count": 27,
   "metadata": {
    "deletable": false,
    "editable": false,
    "nbgrader": {
     "cell_type": "code",
     "checksum": "11d49538f2f7f24f13547de02af90999",
     "grade": true,
     "grade_id": "correct_solve_normal_equation",
     "locked": true,
     "points": 1,
     "schema_version": 3,
     "solution": false,
     "task": false
    }
   },
   "outputs": [],
   "source": [
    "assert (solve_normal_equation(design_matrix(X), y)).shape==(3,),\\\n",
    "    'Return object has wrong shape. Maybe the `flatten` method will be useful?'"
   ]
  },
  {
   "cell_type": "markdown",
   "metadata": {
    "deletable": false,
    "editable": false,
    "nbgrader": {
     "cell_type": "markdown",
     "checksum": "4017aacc8faa2c4e80804e0ab1ce238c",
     "grade": false,
     "grade_id": "normal_equation_comparison",
     "locked": true,
     "points": 1,
     "schema_version": 3,
     "solution": false,
     "task": true
    }
   },
   "source": [
    "#### (b) Comparisons: \n",
    "Compare the coefficients from the true data generator and the normal equation. Plot the data and the model predictions in the same figure."
   ]
  },
  {
   "cell_type": "code",
   "execution_count": 10,
   "metadata": {
    "deletable": false,
    "nbgrader": {
     "cell_type": "code",
     "checksum": "b9b4bc5b4b970a0c2b97e74a3e3adc25",
     "grade": false,
     "grade_id": "cell-fbd1f3bdda876913",
     "locked": false,
     "schema_version": 3,
     "solution": true,
     "task": false
    }
   },
   "outputs": [
    {
     "data": {
      "image/png": "[encoded data removed]",
      "text/plain": [
       "<Figure size 720x576 with 1 Axes>"
      ]
     },
     "metadata": {
      "needs_background": "light"
     },
     "output_type": "display_data"
    }
   ],
   "source": [
    "# \n",
    "# YOUR CODE HERE\n",
    "# \n",
    "\n",
    "def y_predict(theta, X):\n",
    "    \"\"\"Returns y values for array x for a given theta\"\"\"\n",
    "    \n",
    "    #y = theta[0] + theta[1]*x + theta[2]*x**2 ....\n",
    "    \n",
    "    y = np.multiply(np.ones((len(X),1)),theta[0])  # first term of the sum\n",
    "    for i in np.arange(1,theta.size,1):\n",
    "        y = y + np.multiply(theta[i],np.power(X,i)) \n",
    "        \n",
    "    return y\n",
    "\n",
    "theta = solve_normal_equation(design_matrix(X),y)\n",
    "    \n",
    "x_predict = np.linspace(min(X),max(X),len(X))    # evenly spaced x values in the same range as the datapoints\n",
    "y_true_data_generator = 0.5 * x_predict**2 + x_predict + 2  # the values used to generate the data\n",
    "fig, ax = plt.subplots(figsize=(10,8))\n",
    "ax.plot(x_predict,y_true_data_generator, \"y-\", label = \"Real model\")\n",
    "ax.plot(x_predict, y_predict(theta,x_predict), \"r-\",label=\"Normal Equation Prediction\")\n",
    "ax.plot(X, y, \"b.\",label=\"Data\")\n",
    "ax.set_xlabel('X')\n",
    "ax.set_ylabel('y')\n",
    "ax.legend(loc='best');"
   ]
  },
  {
   "cell_type": "markdown",
   "metadata": {},
   "source": [
    "## Problem 3\n",
    "### (3 points)"
   ]
  },
  {
   "cell_type": "markdown",
   "metadata": {
    "deletable": false,
    "editable": false,
    "nbgrader": {
     "cell_type": "markdown",
     "checksum": "5f523cfadaae0a17a63fbf834241101f",
     "grade": false,
     "grade_id": "cell-ad4ec88c445cd30c",
     "locked": true,
     "schema_version": 3,
     "solution": false,
     "task": false
    }
   },
   "source": [
    "There are three files in the directory `DataFiles`:\n",
    "- `dataset1.dat`\n",
    "- `dataset2.dat`\n",
    "- `dataset3.dat`\n",
    "\n",
    "Each data files contains two columns. The first column corresponds to the independent variables (the array X), and the second column corresponds to the dependent ones (the array y)."
   ]
  },
  {
   "cell_type": "code",
   "execution_count": 12,
   "metadata": {
    "deletable": false,
    "nbgrader": {
     "cell_type": "code",
     "checksum": "0d584424c8353dc56c19697cb4b0f7e7",
     "grade": false,
     "grade_id": "cell-a51f823aed196b24",
     "locked": false,
     "schema_version": 3,
     "solution": true,
     "task": false
    }
   },
   "outputs": [],
   "source": [
    "# This cell is used in the solution notebook to generate the data. \n",
    "# It is hidden in the student version.\n",
    "# \n",
    "# Please ignore the comment in this cell that says \"YOUR CODE HERE\". It gets added automatically.\n",
    "# No solution code is needed here.\n",
    "# ---\n",
    "# \n",
    "# YOUR CODE HERE\n",
    "# "
   ]
  },
  {
   "cell_type": "markdown",
   "metadata": {
    "deletable": false,
    "editable": false,
    "nbgrader": {
     "cell_type": "markdown",
     "checksum": "b56bb640833e47b3f518fce9c0008b4a",
     "grade": false,
     "grade_id": "cell-5f84c9fa34a2552c",
     "locked": true,
     "schema_version": 3,
     "solution": false,
     "task": false
    }
   },
   "source": [
    "#### (a) Implement linear regression and cost function\n",
    "- Load a data set and split it into 60% training and 40% validation data using the python function below.\n",
    "- Implement a linear regression function that takes training data as input and returns a best-fit parameter vector for a polynomial model of a specified degree.\n",
    "- Implement a cost function that takes data and model parameters as input and returns the mean-squared error."
   ]
  },
  {
   "cell_type": "code",
   "execution_count": 13,
   "metadata": {
    "deletable": false,
    "editable": false,
    "nbgrader": {
     "cell_type": "code",
     "checksum": "b886fccdb06f514ef4e964cc065d9dc2",
     "grade": false,
     "grade_id": "cell-a53c70d002ece548",
     "locked": true,
     "schema_version": 3,
     "solution": false,
     "task": false
    }
   },
   "outputs": [],
   "source": [
    "# built-in convenience function for splitting data\n",
    "from sklearn.model_selection import train_test_split\n",
    "\n",
    "def load_data(datafile, train_size=0.6):\n",
    "    \"\"\"\n",
    "    Reads data from file and returns training and validation sets.\n",
    "    \n",
    "    Args:\n",
    "        datafile: String with data filename path. The data file \n",
    "            should contain two columns: x, y\n",
    "        train_size: float indicating the fraction of training data\n",
    "            (default: 0.6)\n",
    "            \n",
    "    Returns:\n",
    "        (X_train, X_val, y_train, y_val): Tuple with four arrays \n",
    "            with training and validation data.\n",
    "    \"\"\"\n",
    "    X, y = np.loadtxt(datafile, unpack=True)\n",
    "    m = len(X)\n",
    "    X = X.reshape(m,1); y = y.reshape(m,1)\n",
    "\n",
    "    X_train, X_val, y_train, y_val = \\\n",
    "        train_test_split(X, y, train_size=train_size, random_state=42)\n",
    "    return (X_train, X_val, y_train, y_val)"
   ]
  },
  {
   "cell_type": "code",
   "execution_count": 14,
   "metadata": {
    "deletable": false,
    "nbgrader": {
     "cell_type": "code",
     "checksum": "5efdb5f19bfa224686f5f393f22e0fca",
     "grade": false,
     "grade_id": "cell-aa16bd9e1a61d370",
     "locked": false,
     "schema_version": 3,
     "solution": true,
     "task": false
    }
   },
   "outputs": [],
   "source": [
    "# Implement a linear regression function that takes \n",
    "# training data as input and returns a best-fit parameter \n",
    "# vector for a polynomial model of a specified degree.\n",
    "def linear_regression(X, y, degree=2):\n",
    "    \"\"\"\n",
    "    Performs linear regression for a polynomial model.\n",
    "    \n",
    "    Args:\n",
    "        X: Array of shape (m,1) with 'm' independent data.\n",
    "        y: Array of shape (m,1) with 'm' dependent data.\n",
    "        degree: Integer with the degree of the polynomial. \n",
    "                  Note that a degree-n polynomial has n+1 coefficients.\n",
    "                  \n",
    "    Returns:\n",
    "        theta_fit: Best fit parameters. Array of shape (degree+1,)\n",
    "    \"\"\"\n",
    "    # \n",
    "    # YOUR CODE HERE\n",
    "    # \n",
    "    X_d = design_matrix(X,degree)\n",
    "    theta = solve_normal_equation(X_d,y)\n",
    "    return theta"
   ]
  },
  {
   "cell_type": "code",
   "execution_count": 15,
   "metadata": {
    "deletable": false,
    "editable": false,
    "nbgrader": {
     "cell_type": "code",
     "checksum": "d7feb98c990492a5d2ed52ef49f74d0c",
     "grade": true,
     "grade_id": "cell-b26c3f6a60009e39",
     "locked": true,
     "points": 1,
     "schema_version": 3,
     "solution": false,
     "task": false
    }
   },
   "outputs": [],
   "source": [
    "datafile = 'DataFiles/dataset1.dat'\n",
    "(X_train, X_val, y_train, y_val) = load_data(datafile)\n",
    "assert len(linear_regression(X_train, y_train, degree=3))==4\n",
    "a0_degree3fit_residual = \\\n",
    "    linear_regression(X_train, y_train, degree=3)[0] - 0.041779\n",
    "assert abs(a0_degree3fit_residual) < 1e-7\n"
   ]
  },
  {
   "cell_type": "code",
   "execution_count": 16,
   "metadata": {
    "deletable": false,
    "nbgrader": {
     "cell_type": "code",
     "checksum": "b142de888119d1560c1d945f818bf93e",
     "grade": false,
     "grade_id": "MSE",
     "locked": false,
     "schema_version": 3,
     "solution": true,
     "task": false
    }
   },
   "outputs": [],
   "source": [
    "# Implement a cost function that takes data and polynomial model \n",
    "# parameters as input and returns the mean-squared error.\n",
    "def mean_squared_error(X, y, theta):\n",
    "    \"\"\"\n",
    "    Compute the mean-squared error for data and a polynomial fit.\n",
    "    \n",
    "    Args:\n",
    "        X: Array of shape (m,1) with 'm' independent data.\n",
    "        y: Array of shape (m,1) with 'm' dependent data.\n",
    "        theta: Parameter array [shape (degree+1,)]. \n",
    "            The ordering corresponds to the constant term first.\n",
    "            \n",
    "    Return:\n",
    "        MSE: Mean-squared error defined as\n",
    "            MSE = (1/m) * sum_i (y[i] - y_model[i])**2,\n",
    "            where y_model[i] = \\sum_m theta[m]*X[i]**m \n",
    "    \"\"\"\n",
    "    # \n",
    "    # YOUR CODE HERE\n",
    "    # \n",
    "    m = len(y)\n",
    "    MSE = 0   \n",
    "    for i in np.arange(0,m,1):\n",
    "        y_model = 0\n",
    "        for j in np.arange(0,len(theta),1):\n",
    "            y_model += theta[j]*(X[i]**j)   \n",
    "        MSE = MSE + (y[i]-y_model)**2\n",
    "    MSE = 1/m *MSE\n",
    "    return MSE"
   ]
  },
  {
   "cell_type": "code",
   "execution_count": 17,
   "metadata": {
    "deletable": false,
    "nbgrader": {
     "cell_type": "code",
     "checksum": "4a6be1ce3357a1ab1bc035c4f7d1079b",
     "grade": false,
     "grade_id": "polynomial_regression",
     "locked": false,
     "schema_version": 3,
     "solution": true,
     "task": false
    }
   },
   "outputs": [],
   "source": [
    "# Implement a function that takes data and polynomial model degree\n",
    "# and returns the mean-squared error for both training and validation data\n",
    "# as well as the best fit parameters.\n",
    "def polynomial_regression( data, degree):\n",
    "    \"\"\"\n",
    "    Compute the mean-squared error for data and a polynomial fit.\n",
    "    \n",
    "    Args:\n",
    "        data = (X_train, X_val, y_train, y_val): Tuple with four arrays \n",
    "            with training and validation data.\n",
    "        degree: Integer with the degree of the polynomial. \n",
    "                  Note that a degree-n polynomial has n+1 coefficients.\n",
    "            \n",
    "    Return:\n",
    "        MSE_train: Mean-squared error of training data\n",
    "        MSE_val: Mean-squared error of validation data\n",
    "        theta_fit: Best fit parameters [array of shape (degree+1,)]\n",
    "    \"\"\"\n",
    "    # \n",
    "    # YOUR CODE HERE\n",
    "    # \n",
    "    theta_fit = linear_regression(data[0], data[2], degree)\n",
    "    MSE_train = mean_squared_error(data[0],data[2], theta_fit)\n",
    "    MSE_val = mean_squared_error(data[1], data[3], theta_fit)\n",
    "    return MSE_train, MSE_val, theta_fit"
   ]
  },
  {
   "cell_type": "code",
   "execution_count": 18,
   "metadata": {
    "deletable": false,
    "editable": false,
    "nbgrader": {
     "cell_type": "code",
     "checksum": "81b14eefd5bc22e72933f3a5bc4c8ad3",
     "grade": true,
     "grade_id": "correct_MSE",
     "locked": true,
     "points": 1,
     "schema_version": 3,
     "solution": false,
     "task": false
    }
   },
   "outputs": [],
   "source": [
    "X_train=np.array([[1],[2],[3]])\n",
    "y_train=np.array([[2],[5],[10]])\n",
    "assert mean_squared_error(X_train, y_train, np.array([1,0,1]))==0\n",
    "assert mean_squared_error(X_train, y_train, np.array([0,0,0]))==43\n",
    "\n",
    "X_val = np.array([[4],[5]])\n",
    "y_val = np.array([[17],[27]])\n",
    "MSE_train, MSE_val, theta_fit = \\\n",
    "    polynomial_regression( (X_train, X_val, y_train, y_val), 2)\n",
    "assert MSE_val-0.5 < 1e-7\n"
   ]
  },
  {
   "cell_type": "markdown",
   "metadata": {
    "deletable": false,
    "editable": false,
    "nbgrader": {
     "cell_type": "markdown",
     "checksum": "678e458083b6a9b788bb5b8a6eb4dd1e",
     "grade": false,
     "grade_id": "cell-0a736787d7c078d6",
     "locked": true,
     "schema_version": 3,
     "solution": false,
     "task": false
    }
   },
   "source": [
    "#### (b) Perform linear regression with different polynomial models\n",
    "- For each data set you should then perform linear regression using polynomial models of order 1,2,3,4,5, and 20.\n",
    "- Finally, print the fit coefficients for each polynomial model that was considered and print also the mean-squared error (MSE) for both the training and the validation sets."
   ]
  },
  {
   "cell_type": "code",
   "execution_count": 19,
   "metadata": {
    "deletable": false,
    "nbgrader": {
     "cell_type": "code",
     "checksum": "898c9652ff10c9817d46d55d5be266d9",
     "grade": false,
     "grade_id": "cell-49fbcaec1138af05",
     "locked": false,
     "schema_version": 3,
     "solution": true,
     "task": false
    }
   },
   "outputs": [
    {
     "name": "stdout",
     "output_type": "stream",
     "text": [
      "Data set 1\n",
      "\n",
      "\n",
      "Order= 1 :\t theta=\t\t [ 8.6445 -1.2346] \n",
      "\t\t MSE_train=\t [58.0615] \n",
      "\t\t MSE_val\t [39.879]\n",
      "\n",
      "\n",
      "Order= 2 :\t theta=\t\t [ 0.1291 -0.6367  2.5869] \n",
      "\t\t MSE_train=\t [4.412] \n",
      "\t\t MSE_val\t [4.1176]\n",
      "\n",
      "\n",
      "Order= 3 :\t theta=\t\t [ 0.0418  1.2698  2.526  -0.3317] \n",
      "\t\t MSE_train=\t [2.3258] \n",
      "\t\t MSE_val\t [2.5441]\n",
      "\n",
      "\n",
      "Order= 4 :\t theta=\t\t [ 1.9935  0.9906  0.5087 -0.2496  0.2495] \n",
      "\t\t MSE_train=\t [0.0097] \n",
      "\t\t MSE_val\t [0.0055]\n",
      "\n",
      "\n",
      "Order= 5 :\t theta=\t\t [ 1.9932e+00  9.8228e-01  5.0992e-01 -2.4524e-01  2.4929e-01 -4.4104e-04] \n",
      "\t\t MSE_train=\t [0.0097] \n",
      "\t\t MSE_val\t [0.0056]\n",
      "\n",
      "\n",
      "Order= 20 :\t theta=\t\t [ 1.8692e+00  1.0518e+00  8.3932e-01 -4.5240e-01 -1.3679e+00  1.5288e-01\n",
      "  2.6844e+00 -8.4947e-03 -2.2037e+00 -3.8543e-02  1.0163e+00  2.0156e-02\n",
      " -2.8045e-01 -4.7157e-03  4.7298e-02  5.8362e-04 -4.7754e-03 -3.7068e-05\n",
      "  2.6498e-04  9.5152e-07 -6.2114e-06] \n",
      "\t\t MSE_train=\t [0.0265] \n",
      "\t\t MSE_val\t [0.0215]\n",
      "\n",
      "Data set 2\n",
      "\n",
      "\n",
      "Order= 1 :\t theta=\t\t [2.9253 0.397 ] \n",
      "\t\t MSE_train=\t [3.9993] \n",
      "\t\t MSE_val\t [3.1513]\n",
      "\n",
      "\n",
      "Order= 2 :\t theta=\t\t [1.0519 0.5285 0.5691] \n",
      "\t\t MSE_train=\t [1.4028] \n",
      "\t\t MSE_val\t [1.2783]\n",
      "\n",
      "\n",
      "Order= 3 :\t theta=\t\t [ 0.9869  1.9504  0.5237 -0.2474] \n",
      "\t\t MSE_train=\t [0.2423] \n",
      "\t\t MSE_val\t [0.135]\n",
      "\n",
      "\n",
      "Order= 4 :\t theta=\t\t [ 0.9677  1.9531  0.5434 -0.2482 -0.0024] \n",
      "\t\t MSE_train=\t [0.2421] \n",
      "\t\t MSE_val\t [0.1377]\n",
      "\n",
      "\n",
      "Order= 5 :\t theta=\t\t [ 0.9661  1.9114  0.5496 -0.2262 -0.0035 -0.0022] \n",
      "\t\t MSE_train=\t [0.2418] \n",
      "\t\t MSE_val\t [0.1405]\n",
      "\n",
      "\n",
      "Order= 20 :\t theta=\t\t [ 7.7854e-01  2.0813e+00  2.7002e+00 -1.0437e+00 -8.2838e+00  7.0124e-01\n",
      "  1.3457e+01 -3.5909e-02 -1.1023e+01 -1.9288e-01  5.0819e+00  1.0077e-01\n",
      " -1.4023e+00 -2.3579e-02  2.3649e-01  2.9181e-03 -2.3877e-02 -1.8534e-04\n",
      "  1.3249e-03  4.7576e-06 -3.1057e-05] \n",
      "\t\t MSE_train=\t [0.2114] \n",
      "\t\t MSE_val\t [0.2221]\n",
      "\n",
      "Data set 3\n",
      "\n",
      "\n",
      "Order= 1 :\t theta=\t\t [3.1128 0.2767] \n",
      "\t\t MSE_train=\t [8.2366] \n",
      "\t\t MSE_val\t [5.9776]\n",
      "\n",
      "\n",
      "Order= 2 :\t theta=\t\t [1.0105 0.4243 0.6387] \n",
      "\t\t MSE_train=\t [4.9664] \n",
      "\t\t MSE_val\t [3.89]\n",
      "\n",
      "\n",
      "Order= 3 :\t theta=\t\t [ 0.9474  1.8016  0.5947 -0.2397] \n",
      "\t\t MSE_train=\t [3.8776] \n",
      "\t\t MSE_val\t [2.1602]\n",
      "\n",
      "\n",
      "Order= 4 :\t theta=\t\t [ 0.8709  1.8126  0.6738 -0.2429 -0.0098] \n",
      "\t\t MSE_train=\t [3.874] \n",
      "\t\t MSE_val\t [2.2032]\n",
      "\n",
      "\n",
      "Order= 5 :\t theta=\t\t [ 0.8642  1.6457  0.6984 -0.1547 -0.0141 -0.0088] \n",
      "\t\t MSE_train=\t [3.8681] \n",
      "\t\t MSE_val\t [2.2475]\n",
      "\n",
      "\n",
      "Order= 20 :\t theta=\t\t [ 2.0151e-01  2.3009e+00  9.3581e+00 -3.3943e+00 -3.3160e+01  2.7962e+00\n",
      "  5.3831e+01 -1.4274e-01 -4.4093e+01 -7.7155e-01  2.0328e+01  4.0310e-01\n",
      " -5.6090e+00 -9.4315e-02  9.4596e-01  1.1672e-02 -9.5508e-02 -7.4136e-04\n",
      "  5.2995e-03  1.9031e-05 -1.2423e-04] \n",
      "\t\t MSE_train=\t [3.3647] \n",
      "\t\t MSE_val\t [3.5959]\n"
     ]
    }
   ],
   "source": [
    "# \n",
    "# YOUR CODE HERE\n",
    "# \n",
    "\n",
    "data1 = load_data('DataFiles/dataset1.dat') # format: x_train,x_val,y_train,y_val\n",
    "data2 = load_data('DataFiles/dataset2.dat')\n",
    "data3 = load_data('DataFiles/dataset3.dat')\n",
    "\n",
    "\n",
    "\n",
    "print('Data set 1')\n",
    "for order in np.array([1,2,3,4,5,20]):\n",
    "    MSE_train, MSE_val, theta_fit = polynomial_regression(data1,order)\n",
    "    with np.printoptions(precision=4): #number of decimals printed.\n",
    "        print('\\n')\n",
    "        print('Order=', order, ':\\t theta=\\t\\t', theta_fit, '\\n\\t\\t MSE_train=\\t', MSE_train, '\\n\\t\\t MSE_val\\t', MSE_val)\n",
    "\n",
    "print('\\nData set 2')\n",
    "for order in np.array([1,2,3,4,5,20]):\n",
    "    MSE_train, MSE_val, theta_fit = polynomial_regression(data2,order)\n",
    "    with np.printoptions(precision=4):\n",
    "        print('\\n')\n",
    "        print('Order=', order, ':\\t theta=\\t\\t', theta_fit, '\\n\\t\\t MSE_train=\\t', MSE_train, '\\n\\t\\t MSE_val\\t', MSE_val)\n",
    "\n",
    "        \n",
    "print('\\nData set 3')\n",
    "for order in np.array([1,2,3,4,5,20]):\n",
    "    MSE_train, MSE_val, theta_fit = polynomial_regression(data3,order)\n",
    "    with np.printoptions(precision=4):\n",
    "        print('\\n')\n",
    "        print('Order=', order, ':\\t theta=\\t\\t', theta_fit, '\\n\\t\\t MSE_train=\\t', MSE_train, '\\n\\t\\t MSE_val\\t', MSE_val)\n",
    "\n",
    "       \n",
    "\n",
    "\n",
    "\n",
    "\n",
    "\n",
    "\n",
    "\n"
   ]
  },
  {
   "cell_type": "code",
   "execution_count": 56,
   "metadata": {},
   "outputs": [
    {
     "data": {
      "image/png": "[encoded data removed]",
      "text/plain": [
       "<Figure size 720x1440 with 3 Axes>"
      ]
     },
     "metadata": {
      "needs_background": "light"
     },
     "output_type": "display_data"
    }
   ],
   "source": [
    "#I also ploted the data and the fits to verify the results.\n",
    "\n",
    "fig = plt.figure(figsize=(10,20))\n",
    "ax1 = fig.add_subplot(3,1,1)\n",
    "ax2 = fig.add_subplot(3,1,2)\n",
    "ax3 = fig.add_subplot(3,1,3)\n",
    "x_predict1 = np.linspace(min(data1[0]),max(data1[0]),len(data1[0])) # evenly spaced x values in the same range as the datapoints\n",
    "for i in np.array([1,2,3,4,5,20]):   \n",
    "    ax1.plot(x_predict1, y_predict(linear_regression(data1[0],data1[2],i),x_predict1),label=\"Regression of order %.0f\"%(i))\n",
    "    \n",
    "\n",
    "ax1.plot(data1[0], data1[2], \"b.\",label=\"Trainingdata1\")\n",
    "ax1.plot(data1[1], data1[3], \"g.\",label=\"Validation data1\")\n",
    "ax1.set_xlabel('X')\n",
    "ax1.set_ylabel('y')\n",
    "ax1.legend(loc='best');\n",
    "\n",
    "\n",
    "x_predict2 = np.linspace(min(data2[0]),max(data2[0]),len(data2[0])) # evenly spaced x values in the same range as the datapoints\n",
    "for i in np.array([1,2,3,4,5,20]):   \n",
    "    ax2.plot(x_predict2, y_predict(linear_regression(data2[0],data2[2],i),x_predict2),label=\"Regression of order %.0f\"%(i))\n",
    "    \n",
    "\n",
    "ax2.plot(data2[0], data2[2], \"b.\",label=\"Trainingdata2\")\n",
    "ax2.plot(data2[1], data2[3], \"g.\",label=\"Validation data2\")\n",
    "ax2.set_xlabel('X')\n",
    "ax2.set_ylabel('y')\n",
    "ax2.legend(loc='best');\n",
    "\n",
    "x_predict3 = np.linspace(min(data3[0]),max(data3[0]),len(data3[0])) # evenly spaced x values in the same range as the datapoints\n",
    "for i in np.array([1,2,3,4,5,20]):   \n",
    "    ax3.plot(x_predict3, y_predict(linear_regression(data3[0],data3[2],i),x_predict3),label=\"Regression of order %.0f\"%(i))\n",
    "    \n",
    "\n",
    "ax3.plot(data3[0], data3[2], \"b.\",label=\"Trainingdata3\")\n",
    "ax3.plot(data3[1], data3[3], \"g.\",label=\"Validation data3\")\n",
    "ax3.set_xlabel('X')\n",
    "ax3.set_ylabel('y')\n",
    "ax3.legend(loc='best');"
   ]
  },
  {
   "cell_type": "markdown",
   "metadata": {
    "deletable": false,
    "editable": false,
    "nbgrader": {
     "cell_type": "markdown",
     "checksum": "9b75e37361ae144d777bbc267cde0e32",
     "grade": false,
     "grade_id": "cell-fcfe8b4f88e942d0",
     "locked": true,
     "schema_version": 3,
     "solution": false,
     "task": false
    }
   },
   "source": [
    "Use the text cell below to answer the following two questions:\n",
    "- Which degree polynomial do you think was used when generating the data?\n",
    "- Which data set do you think has the most noise?\n",
    "\n",
    "Discuss your reasoning."
   ]
  },
  {
   "cell_type": "markdown",
   "metadata": {
    "deletable": false,
    "nbgrader": {
     "cell_type": "markdown",
     "checksum": "fb4cda3ecfa02dd28b9121059f9511c5",
     "grade": true,
     "grade_id": "cell-93dac302fd63f96a",
     "locked": false,
     "points": 1,
     "schema_version": 3,
     "solution": true,
     "task": false
    }
   },
   "source": [
    "* * *\n",
    "**PLEASE WRITE YOUR ANSWER HERE** \n",
    "* * *\n",
    "\n",
    "I think a polynomyal of degree 4 was used for generating data set 1, a polynomial of degree 3 was used for generating data set 2, and finally a polynomial of degree 3 was used for generating data set 3.\n",
    "\n",
    "When you do a good polynomial fit a polynomial fit of higher degree will almost also be similarly good. Consider a polynomial of a very high degree, then we would be able to fit it to the data points quite well but between the points it would probably fluctuate a lot. The higher degree polynomial would not be very useful for making a model. Therefore when the MSE stabilizies and doesnt change very much in value we have probably found the right order of our polynom. I also plotted the data and my conclusions seem reasonable.\n",
    "\n",
    "I think data set 3 was the most noisy because the lowest MSE value for data set 3 was higher than the lowest for both data set 1 and 2. This is also supported buy looking at the plotted figures."
   ]
  },
  {
   "cell_type": "markdown",
   "metadata": {},
   "source": [
    "## Problem 4\n",
    "### (3 points)"
   ]
  },
  {
   "cell_type": "markdown",
   "metadata": {},
   "source": [
    "### Standard medical example by applying Bayesian rules of probability"
   ]
  },
  {
   "cell_type": "markdown",
   "metadata": {
    "deletable": false,
    "editable": false,
    "nbgrader": {
     "cell_type": "markdown",
     "checksum": "33ae39785963e7ea72d0eb70d2103cd6",
     "grade": false,
     "grade_id": "cell-a717eb4d32ba845e",
     "locked": true,
     "schema_version": 3,
     "solution": false,
     "task": false
    }
   },
   "source": [
    "Suppose there is an unknown disease (call it UD) and there is a test for it.\n",
    "\n",
    "a. The false positive rate is 2.3%. (\"False positive\" means the test says you have UD, but you don't.) <br>\n",
    "b. The false negative rate is 1.4%. (\"False negative\" means you have UD, but the test says you don't.)\n",
    "\n",
    "Assume that 1 in 10,000 people have the disease. You are given the test and get a positive result.  Your ultimate goal is to find the probability that you actually have the disease. \n",
    "$% Some LaTeX definitions we'll use.\n",
    "\\newcommand{\\pr}{\\textrm{p}}\n",
    "$"
   ]
  },
  {
   "cell_type": "markdown",
   "metadata": {
    "deletable": false,
    "editable": false,
    "nbgrader": {
     "cell_type": "markdown",
     "checksum": "7e3d6d1a8635628beb75d133afccc515",
     "grade": false,
     "grade_id": "cell-51752b16483bb655",
     "locked": true,
     "schema_version": 3,
     "solution": false,
     "task": false
    }
   },
   "source": [
    "We'll do it using the Bayesian rules.\n",
    "\n",
    "We'll use the notation:\n",
    "\n",
    "* $H$ = \"you have UD\"\n",
    "* $\\overline H$ = \"you do not have UD\"  \n",
    "* $D$ = \"you test positive for UD\"\n",
    "* $\\overline D$ = \"you test negative for UD\"  "
   ]
  },
  {
   "cell_type": "markdown",
   "metadata": {
    "deletable": false,
    "editable": false,
    "nbgrader": {
     "cell_type": "markdown",
     "checksum": "761b695a589fdd6055969477da26236a",
     "grade": false,
     "grade_id": "cell-61c95058fe103533",
     "locked": true,
     "schema_version": 3,
     "solution": false,
     "task": false
    }
   },
   "source": [
    "Use the text cell below to answer the following questions:\n",
    "<br>\n",
    "Notation: $H$ = \"you have UD\", &nbsp;&nbsp; $\\overline H$ = \"you do not have UD\",  &nbsp;&nbsp; $D$ = \"you test positive for UD\", &nbsp;&nbsp;  $\\overline D$ = \"you test negative for UD\" \n",
    "\n",
    "a. *Before doing a calculation (or thinking too hard :), does your intuition tell you the probability you have the disease is high or low?*\n",
    "<br>\n",
    "\n",
    "b. *In the $p(\\cdot | \\cdot)$ notation, what is your ultimate goal?*\n",
    "<br>\n",
    "\n",
    "c. *Express the false positive rate in $p(\\cdot | \\cdot)$ notation.* \\[Ask yourself first: what is to the left of the bar?\\]\n",
    "<br>\n",
    "\n",
    "d. *Express the false negative rate in $p(\\cdot | \\cdot)$ notation. By applying the sum rule, what do you also know? (If you get stuck answering the question, do the next part first.)* \n",
    "<br>\n",
    "\n",
    "e. *Should $p(D|H) + p(D|\\overline H) = 1$?\n",
    "    Should $p(D|H) + p(\\overline D |H) = 1$?\n",
    "    (Hint: does the sum rule apply on the left or right of the $|$?)*\n",
    "<br>\n",
    "\n",
    "f. *Apply Bayes' theorem to your result for your ultimate goal (don't put in numbers yet).\n",
    "   What other probabilities do we need?*\n",
    "<br>"
   ]
  },
  {
   "cell_type": "markdown",
   "metadata": {
    "deletable": false,
    "nbgrader": {
     "cell_type": "markdown",
     "checksum": "fb1da5dddbf1953ecc29a49363a2c0f1",
     "grade": true,
     "grade_id": "cell-0221c5c91a887b41",
     "locked": false,
     "points": 1,
     "schema_version": 3,
     "solution": true,
     "task": false
    }
   },
   "source": [
    "* * *\n",
    "**PLEASE WRITE YOUR ANSWER HERE** \n",
    "* * *\n",
    "\n",
    "a) Low\n",
    "\n",
    "b) $p(H|D)$\n",
    "\n",
    "c) $p(D|\\overline H)$\n",
    "\n",
    "d) $p(\\overline D | H)$ the sum rule gives us: $p(D | H) = 1 - p(\\overline D | H) $ \n",
    "\n",
    "e) $p(D|H) + p(D|\\overline H) = ?$. This is the sum of the probability that you test positive and are sick and the probability that you test positive and are not sick. In special cases this sum can be equal to 1 but generally it is not.\n",
    "\n",
    "$p(D|H) + p(\\overline D |H) = 1$ according to the sum rule. We can understand this as if you have the disease you will always test either positive or negative.\n",
    "\n",
    "The sum rule applies on the right side of the |.\n",
    "\n",
    "f) $p(H|D) = \\frac{p(D|H)p(H)}{p(D)} = \\frac{(1-p(\\overline D |H))p(H)}{p(H)-p(\\overline D |H) + p(D|\\overline H)}$\n",
    "\n",
    "the probability that you test positive is equal to the probability that you are not sick and test positive plus the probability that you are sick and test positive.\n",
    "\n",
    "The probability that you are sick and test positive is the probability that you are sick minus the probability that you are sick and test negative\n",
    "\n"
   ]
  },
  {
   "cell_type": "code",
   "execution_count": 20,
   "metadata": {
    "deletable": false,
    "nbgrader": {
     "cell_type": "code",
     "checksum": "2c26443747ad7abc8240520552e29550",
     "grade": false,
     "grade_id": "medical_example",
     "locked": false,
     "schema_version": 3,
     "solution": true,
     "task": false
    }
   },
   "outputs": [],
   "source": [
    "# Please fill the probabilities as values for the \n",
    "# corresponding keys in the following dictionary.\n",
    "medical_example_probabilities = {}\n",
    "medical_example_probabilities['p(D|Hbar)'] = 0.023\n",
    "medical_example_probabilities['p(Dbar|H)'] = 0.014\n",
    "medical_example_probabilities['p(D|H)'] = 1- 0.014\n",
    "medical_example_probabilities['p(H,Hbar|D)'] = 0 \n",
    "medical_example_probabilities['p(Hbar)'] = 1 - 1/10000\n",
    "medical_example_probabilities['p(D)'] = 1/10000 - 0.014 + 0.023\n",
    "medical_example_probabilities['p(H|D)'] = ((1-0.014)*1/10000)/(1/10000 - 0.014 + 0.023)\n",
    "\n",
    "# \n",
    "# YOUR CODE HERE\n",
    "# P(d) = P(h) -p(dbar|h) + p(d|hbar)"
   ]
  },
  {
   "cell_type": "code",
   "execution_count": 21,
   "metadata": {
    "deletable": false,
    "editable": false,
    "nbgrader": {
     "cell_type": "code",
     "checksum": "5319de57d7e765d7efebff3ab392c769",
     "grade": true,
     "grade_id": "correct_1_medical_example",
     "locked": true,
     "points": 1,
     "schema_version": 3,
     "solution": false,
     "task": false
    }
   },
   "outputs": [],
   "source": [
    "for key in ['p(D|Hbar)', 'p(Dbar|H)', 'p(D|H)']:\n",
    "    assert medical_example_probabilities[key] > 0.\n",
    "    assert medical_example_probabilities[key] < 1.\n",
    "    \n",
    "assert medical_example_probabilities['p(H,Hbar|D)'] <= 1.0\n"
   ]
  },
  {
   "cell_type": "code",
   "execution_count": 22,
   "metadata": {
    "deletable": false,
    "editable": false,
    "nbgrader": {
     "cell_type": "code",
     "checksum": "2f767d6ab42f1573d59d64de9f207cec",
     "grade": true,
     "grade_id": "correct_2_medical_example",
     "locked": true,
     "points": 1,
     "schema_version": 3,
     "solution": false,
     "task": false
    }
   },
   "outputs": [],
   "source": [
    "for key in ['p(Hbar)', 'p(D)', 'p(H|D)']:\n",
    "    assert medical_example_probabilities[key] > 0.\n",
    "    assert medical_example_probabilities[key] < 1."
   ]
  },
  {
   "cell_type": "code",
   "execution_count": null,
   "metadata": {},
   "outputs": [],
   "source": []
  }
 ],
 "metadata": {
  "kernelspec": {
   "display_name": "Python 3",
   "language": "python",
   "name": "python3"
  },
  "language_info": {
   "codemirror_mode": {
    "name": "ipython",
    "version": 3
   },
   "file_extension": ".py",
   "mimetype": "text/x-python",
   "name": "python",
   "nbconvert_exporter": "python",
   "pygments_lexer": "ipython3",
   "version": "3.7.8"
  },
  "nav_menu": {},
  "toc": {
   "navigate_menu": true,
   "number_sections": true,
   "sideBar": true,
   "threshold": 6,
   "toc_cell": false,
   "toc_section_display": "block",
   "toc_window_display": false
  }
 },
 "nbformat": 4,
 "nbformat_minor": 1
}
