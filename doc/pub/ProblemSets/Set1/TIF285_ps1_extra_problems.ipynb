{
 "cells": [
  {
   "cell_type": "markdown",
   "metadata": {},
   "source": [
    "## Instructions\n",
    "- See deadline on the course web page\n",
    "- See examination rules on the course web page.\n",
    "- This problem set is performed individually (collaboration is encouraged, but each individual must be able to explain all of his/her hand-in solutions).\n",
    "- The two notebooks for each problem set contain a number of basic and extra problems; you can choose which and how many to work on.\n",
    "- Many problems are automatically graded using `assert` statements. You should check that your code passes these statements without raising an `AssertionError`. Note that there might be additional, hidden tests that must be passed for full credit. In addition, some tasks are either completely manually graded or part-automatic/part-manual.\n",
    "\n",
    "- **Important:** Hand-in is performed through the following actions:\n",
    "  - Make sure to always complete **Task 0** in the header part of the notebook. \n",
    "  - Upload your solution in the form of your edited version of this jupyter notebook via the appropriate module in Canvas.\n",
    "  - The name of the uploaded file **must be the same as the original one**!\n",
    "  \n",
    "  Note that the hand-in might not be automatically graded if you have changed the name of the uploaded file."
   ]
  },
  {
   "cell_type": "markdown",
   "metadata": {},
   "source": [
    "Before you turn this problem in, make sure everything runs as expected. First, **restart the kernel** (in the menubar, select Kernel$\\rightarrow$Restart) and then **run all cells** (in the menubar, select Cell$\\rightarrow$Run All).\n",
    "\n",
    "Your solutions are usually expected where it says `YOUR CODE HERE` or <font color=\"red\">\"PLEASE WRITE YOUR ANSWER HERE\"</font>."
   ]
  },
  {
   "cell_type": "markdown",
   "metadata": {},
   "source": [
    "### Task 0 \n",
    "#### (0 points)\n",
    "Fill your personal details in the dictionary 'student' with the following key/value pairs:\n",
    "- **Lastname**: Your lastname as a string\n",
    "- **Firstname**: Your firstname as a string\n",
    "- **DOB-year**: The year for your date of birth as a four-digit integer\n",
    "- **DOB-month**: The month for your date of birth as an integer (1-12)\n",
    "- **DOB-day**: The year for your date of birth as an integer (1-31)\n",
    "- **CID**: Your Chalmers login ID as a string"
   ]
  },
  {
   "cell_type": "code",
   "execution_count": 1,
   "metadata": {
    "deletable": false,
    "nbgrader": {
     "cell_type": "code",
     "checksum": "e4b41fd8e57932c927ede3a155032c98",
     "grade": false,
     "grade_id": "student_info",
     "locked": false,
     "schema_version": 3,
     "solution": true,
     "task": false
    }
   },
   "outputs": [],
   "source": [
    "student={}\n",
    "# Update the values below. Note the formats.\n",
    "student['Lastname']='Ohlman'  # string\n",
    "student['Firstname']='Elin' # string\n",
    "student['CID']='ohlman'        # string\n",
    "student['DOB-year']=1998        # four-digit integer\n",
    "student['DOB-month']=6           # integer in the range [1, 12]\n",
    "student['DOB-day']=18             # integer in the range [1, 31]\n",
    "\n",
    "# \n",
    "# YOUR CODE HERE\n",
    "# "
   ]
  },
  {
   "cell_type": "code",
   "execution_count": 2,
   "metadata": {
    "deletable": false,
    "editable": false,
    "nbgrader": {
     "cell_type": "code",
     "checksum": "04fad85b593dac43e9a577b7ad0eda92",
     "grade": true,
     "grade_id": "correct_student_info",
     "locked": true,
     "points": 0,
     "schema_version": 3,
     "solution": false,
     "task": false
    }
   },
   "outputs": [],
   "source": [
    "for key in ['Lastname', 'Firstname','CID']:\n",
    "    assert type(student[key]) is str, f'{key} is wrong type.'\n",
    "    assert student[key] not in ['name_here','cid_here'],\\\n",
    "        f'Fill your {key} as a string.'\n",
    "\n",
    "for key in ['DOB-year', 'DOB-month','DOB-day']:\n",
    "    assert type(student[key]) is int, f'{key} is wrong type.'\n",
    "\n",
    "assert (student['DOB-year'] > 1900 and student['DOB-year'] < 2100)\n",
    "assert student['DOB-month'] in range(1,13), \\\n",
    "    'DOB month should be an integer in the range [1, 12]'\n",
    "assert student['DOB-day'] in range(1,32), \\\n",
    "    'DOB day should be an integer in the range [1, 31]'"
   ]
  },
  {
   "cell_type": "markdown",
   "metadata": {},
   "source": [
    "# Problem Set 1\n",
    "## Extra problems\n",
    "### Learning from data [TIF285], Chalmers, Fall 2020\n",
    "\n",
    "Last revised: 29-Aug-2020 by Christian Forssén [christian.forssen@chalmers.se]"
   ]
  },
  {
   "cell_type": "markdown",
   "metadata": {
    "deletable": false,
    "editable": false,
    "nbgrader": {
     "cell_type": "markdown",
     "checksum": "a4c7b4552738861df6f5d4fa8b4f4d99",
     "grade": false,
     "grade_id": "cell-e9ba4d595f058265",
     "locked": true,
     "schema_version": 3,
     "solution": false,
     "task": false
    }
   },
   "source": [
    "## Instructions\n",
    "- See deadline on the course web page\n",
    "- This problem set is performed individually (but collaboration is encouraged).\n",
    "- The two notebooks for each problem set contain a number of basic and extra problems; you can choose which and how many to work on.\n",
    "- See examination rules on the course web page.\n",
    "- Hand-in is performed through the following action:\n",
    "  - Make sure to always complete **Task 0** in the *\"Basic problems\" notebook. This corresponds to providing your personal details and is needed for examination.\n",
    "  - Upload your solution in the form of your edited version of this jupyter notebook via Canvas.\n",
    "  - The name of the uploaded file **must be the same as the original one**!\n",
    "  \n",
    "  Note that the hand-in might not be automatically graded if you have changed the name of the uploaded file."
   ]
  },
  {
   "cell_type": "code",
   "execution_count": 1,
   "metadata": {
    "deletable": false,
    "nbgrader": {
     "cell_type": "code",
     "checksum": "61603b6b71f80b2617bf90aaffea2bf6",
     "grade": false,
     "grade_id": "cell-30c16b2db381306f",
     "locked": false,
     "schema_version": 3,
     "solution": true,
     "task": false
    }
   },
   "outputs": [],
   "source": [
    "# import modules\n",
    "\n",
    "# \n",
    "# YOUR CODE HERE\n",
    "# \n",
    "\n",
    "import numpy as np\n",
    "import scipy as scipy\n",
    "import matplotlib.pyplot as plt\n",
    "import pandas as pd\n",
    "import sklearn as skl\n",
    "import emcee as emcee\n",
    "\n",
    "# I imported the same modules as in the basic task in case you wanted the same ones here"
   ]
  },
  {
   "cell_type": "markdown",
   "metadata": {},
   "source": [
    "## Problem 5 (extra)\n",
    "### (3 points)"
   ]
  },
  {
   "cell_type": "markdown",
   "metadata": {},
   "source": [
    "#### Reload the third dataset from Problem 3"
   ]
  },
  {
   "cell_type": "code",
   "execution_count": 2,
   "metadata": {
    "deletable": false,
    "editable": false,
    "nbgrader": {
     "cell_type": "code",
     "checksum": "b65699b26dc4d055770c8991d25a9d6e",
     "grade": false,
     "grade_id": "cell-9bbcc6d8d2e07690",
     "locked": true,
     "schema_version": 3,
     "solution": false,
     "task": false
    }
   },
   "outputs": [],
   "source": [
    "datafile = 'DataFiles/dataset3.dat'\n",
    "X, y = np.loadtxt(datafile, unpack=True)\n",
    "m = len(X)\n",
    "X = X.reshape(m,1); y = y.reshape(m,1)"
   ]
  },
  {
   "cell_type": "markdown",
   "metadata": {
    "deletable": false,
    "editable": false,
    "nbgrader": {
     "cell_type": "markdown",
     "checksum": "140a7fa9e51097457fda1e6e50a2cc1e",
     "grade": false,
     "grade_id": "cell-10862146b5aeebc1",
     "locked": true,
     "points": 3,
     "schema_version": 3,
     "solution": false,
     "task": true
    }
   },
   "source": [
    "#### Validation curves\n",
    "Create a validation curve for the polynomial model (for different degrees) where you plot the training score and the validation score as a function of the model complexity. \n",
    "- The model complexity is simply the degree of the polynomial.\n",
    "- For the computation of training and validation scores you are encouraged to use cross-validation which is more stable than the use of a single, random pair of training and validation sets.\n",
    "\n",
    "Question to ponder:\n",
    "- From this curve: Which order polynomial do you think was used when generating the data?\n",
    "\n",
    "*Hint:* `scikit-learn` has a function `validation_curve` that might be useful. However, it is certainly instructive to implement the calculation of learning curves yourself."
   ]
  },
  {
   "cell_type": "code",
   "execution_count": 3,
   "metadata": {
    "deletable": false,
    "nbgrader": {
     "cell_type": "code",
     "checksum": "5b7143d6e8baebac5a8c177116fabbfe",
     "grade": false,
     "grade_id": "cell-4c0faa3d3a1db40e",
     "locked": false,
     "schema_version": 3,
     "solution": true,
     "task": false
    }
   },
   "outputs": [
    {
     "data": {
      "image/png": "[encoded data removed]",
      "text/plain": [
       "<Figure size 576x432 with 1 Axes>"
      ]
     },
     "metadata": {
      "needs_background": "light"
     },
     "output_type": "display_data"
    }
   ],
   "source": [
    "# \n",
    "# YOUR CODE HERE\n",
    "# \n",
    "from sklearn.linear_model import LinearRegression\n",
    "from sklearn.preprocessing import PolynomialFeatures\n",
    "from sklearn.metrics import mean_squared_error\n",
    "from sklearn.model_selection import KFold\n",
    "\n",
    "lin_reg = LinearRegression()  #model used to do the fit\n",
    "k = 10 #no of splits\n",
    "kf = KFold(n_splits=k, shuffle = False)   #method used to do the k fold validation, if you want you can also shuffle the data before splitting it\n",
    "\n",
    "#arrays to save the data\n",
    "MSE_train_mean = [] \n",
    "MSE_val_mean = []\n",
    "\n",
    "for degree in np.arange(1,10): #looping over different degrees\n",
    "    MSE_train = 0\n",
    "    MSE_val = 0\n",
    "    poly_features = PolynomialFeatures(degree=degree, include_bias=False)  #used to make the design matrix\n",
    "    for train_index, val_index in kf.split(X):  #looping over the k splits for k-fold cross validation\n",
    "        #arrays of training and validation data for each loop. Using np.c_ to get correct format\n",
    "        X_train = np.c_[np.take(X,train_index)]  \n",
    "        y_train = np.c_[np.take(y,train_index)]\n",
    "        X_val = np.c_[np.take(X,val_index)]\n",
    "        y_val = np.c_[np.take(y,val_index)]\n",
    "        X_train_d = poly_features.fit_transform(X_train) #design matrix\n",
    "    \n",
    "        lin_reg.fit(X_train_d, y_train)  #fiting the model to the data\n",
    "        y_train_predict = lin_reg.predict(X_train_d) #using the fit to predict y values for the training data\n",
    "        X_val_poly = poly_features.transform(X_val) #formating the data so we can predict y values for the val data\n",
    "        y_val_predict = lin_reg.predict(X_val_poly) #using the fit to predict y values for the validation data\n",
    "        #summing the MSE values for every split\n",
    "        MSE_train += mean_squared_error(y_train,y_train_predict) \n",
    "        MSE_val += mean_squared_error(y_val, y_val_predict)\n",
    "    #dividing the summed MSE values by k to get the mean value of them for the specific degree value and saving it in the array\n",
    "    MSE_train_mean.append(MSE_train/k)\n",
    "    MSE_val_mean.append(MSE_val/k)\n",
    "    \n",
    "\n",
    "#plotting the training and validation scores for differnt degrees.\n",
    "degree = np.arange(1,10)\n",
    "fig, ax = plt.subplots(figsize=(8,6))\n",
    "ax.plot(degree, MSE_train_mean, \"b.\",label=\"Training score\")\n",
    "ax.plot(degree, MSE_val_mean, \"r.\",label=\"Validation score\")\n",
    "ax.set_xlabel('Degree')\n",
    "ax.set_ylabel('MSE')\n",
    "ax.legend(loc='best');                                                \n",
    "\n"
   ]
  },
  {
   "cell_type": "markdown",
   "metadata": {},
   "source": [
    "I think the data was generated from an degree 3 polynomial since that has the lowest validation score. For higher degrees the model is overfitted and the validation score increases."
   ]
  },
  {
   "cell_type": "markdown",
   "metadata": {},
   "source": [
    "## Problem 6 (extra)\n",
    "### (3 points)"
   ]
  },
  {
   "cell_type": "markdown",
   "metadata": {},
   "source": [
    "### Gradient descent methods"
   ]
  },
  {
   "cell_type": "markdown",
   "metadata": {},
   "source": [
    "#### Generate noisy data with a quadratic feature\n",
    "This is the same data as in Problem 2."
   ]
  },
  {
   "cell_type": "code",
   "execution_count": 4,
   "metadata": {
    "deletable": false,
    "editable": false,
    "nbgrader": {
     "cell_type": "code",
     "checksum": "cb7265483537dcbaa3c3f92107e8e2a8",
     "grade": false,
     "grade_id": "cell-b8c83bd1b3a4a7e0",
     "locked": true,
     "schema_version": 3,
     "solution": false,
     "task": false
    }
   },
   "outputs": [],
   "source": [
    "# Generate noisy data with a quadratic feature\n",
    "# use the following code:\n",
    "np.random.seed(42)\n",
    "\n",
    "# X are picked uniform random [0,2]\n",
    "X = 2 * np.random.rand(100, 1)\n",
    "# Linear relation to the predicted value, but with Gaussian noise (mean=0, variance=1)\n",
    "y = 0.5 * X**2 + X + 2 + 0.2 * np.random.randn(100, 1)"
   ]
  },
  {
   "cell_type": "markdown",
   "metadata": {},
   "source": [
    "#### (a) Batch and stochastic gradient descent\n",
    "Implement both batch and stochastic gradient descent and use these methods to find the best fit parameters of a quadratic model.\n",
    "- You might want to tune the learning hyperparameter $\\eta$.\n",
    "- Do 50 epochs for the SGD (each epoch corresponding to using all instances of data once)\n",
    "- Compare with the solution from Problem 2."
   ]
  },
  {
   "cell_type": "code",
   "execution_count": 5,
   "metadata": {
    "deletable": false,
    "nbgrader": {
     "cell_type": "code",
     "checksum": "2b85105dadfb07f823fc99b3a9a026a9",
     "grade": false,
     "grade_id": "bgd",
     "locked": false,
     "schema_version": 3,
     "solution": true,
     "task": false
    }
   },
   "outputs": [],
   "source": [
    "# Implement BGD and use it to find the best-fit parameters\n",
    "#\n",
    "# At the end, the following array should contain the \n",
    "# best-fit parameters: \n",
    "# theta_0 (constant term), theta_1 (linear), theta_2 (quadratic)\n",
    "theta_bgd = np.array([0., 0., 0.]) # Note the order\n",
    "\n",
    "# \n",
    "# YOUR CODE HERE\n",
    "# \n",
    "\n",
    "conv = False #if it has converged\n",
    "eta = 0.05 # learning hyperparameter\n",
    "m = len(X)\n",
    "\n",
    "theta = 2*np.random.rand(3) #random initiation of theta\n",
    "theta_path_bgd = [] #save the path of theta\n",
    "\n",
    "while not conv:\n",
    "    #calculate the gradient, mean value of the gradient for every data point\n",
    "    gradient = np.ones(3)\n",
    "    gradient[0] = 1.0/m * sum([(theta[0] + theta[1]*X[i] + theta[2]*X[i]**2 - y[i]) for i in range(m)]) \n",
    "    gradient[1] = 1.0/m * sum([(theta[0] + theta[1]*X[i] + theta[2]*X[i]**2 - y[i])*X[i] for i in range(m)])\n",
    "    gradient[2] = 1.0/m * sum([(theta[0] + theta[1]*X[i] + theta[2]*X[i]**2 - y[i])*X[i]**2 for i in range(m)]) \n",
    "    \n",
    "    theta = theta - eta*gradient #update theta\n",
    "    theta_path_bgd.append(theta) #save the theta values\n",
    "    \n",
    "    #check if it converges by checking that everey term of the gradient is close to zero\n",
    "    if abs(gradient[0]) < 1e-04 and abs(gradient[1]) < 1e-04 and abs(gradient[2]) < 1e-04: \n",
    "        conv = True\n",
    "theta_bgd = theta\n",
    "theta_path_bgd = np.transpose(theta_path_bgd)"
   ]
  },
  {
   "cell_type": "code",
   "execution_count": 6,
   "metadata": {
    "deletable": false,
    "nbgrader": {
     "cell_type": "code",
     "checksum": "73ad5295fd60570971e6e54eed2ead47",
     "grade": false,
     "grade_id": "sgd",
     "locked": false,
     "schema_version": 3,
     "solution": true,
     "task": false
    }
   },
   "outputs": [],
   "source": [
    "# Implement SGD and use it to find the best-fit parameters\n",
    "#\n",
    "# At the end, the following array should contain the \n",
    "# best-fit parameters: \n",
    "# theta_0 (constant term), theta_1 (linear), theta_2 (quadratic)\n",
    "theta_sgd = np.array([0., 0., 0.]) # Note the order\n",
    "\n",
    "# \n",
    "# YOUR CODE HERE\n",
    "# \n",
    "\n",
    "m = len(X)\n",
    "n_epochs = 50\n",
    "t0, t1 =100, 1000  # learning schedule hyperparameters 5 10 ok\n",
    "theta = np.random.rand(3)  # random initialization\n",
    "\n",
    "# We will store the iterations in a list to monitor the convergence\n",
    "theta_path_sgd = []\n",
    "\n",
    "def learning_schedule(t):\n",
    "    return t0 / (t + t1)\n",
    "\n",
    "\n",
    "for epoch in range(n_epochs):\n",
    "    for i in range(m):\n",
    "        # pick a random data point\n",
    "        random_index = np.random.randint(m)\n",
    "        #calculate gradient for that datapoint\n",
    "        gradient = np.ones(3)\n",
    "        gradient[0] = theta[0] + theta[1]*X[random_index] + theta[2]*X[random_index]**2 - y[random_index]\n",
    "        gradient[1] = (theta[0] + theta[1]*X[random_index] + theta[2]*X[random_index]**2 - y[random_index])*X[random_index]\n",
    "        gradient[2] = (theta[0] + theta[1]*X[random_index] + theta[2]*X[random_index]**2 - y[random_index])*X[random_index]**2\n",
    "        eta = learning_schedule(epoch * m + i)\n",
    "        #update theta\n",
    "        theta = theta - eta*gradient\n",
    "        theta_path_sgd.append(theta)  \n",
    "theta_sgd = theta\n",
    "theta_path_sgd = np.transpose(theta_path_sgd)\n"
   ]
  },
  {
   "cell_type": "code",
   "execution_count": 7,
   "metadata": {
    "deletable": false,
    "editable": false,
    "nbgrader": {
     "cell_type": "code",
     "checksum": "4a38011e6c5704f73db630e9697d2be8",
     "grade": true,
     "grade_id": "correct_bgd_sgd",
     "locked": true,
     "points": 1,
     "schema_version": 3,
     "solution": false,
     "task": false
    }
   },
   "outputs": [],
   "source": [
    "assert theta_bgd.shape ==(3,)\n",
    "assert not (theta_bgd==0).any()\n",
    "assert theta_sgd.shape ==(3,)\n",
    "assert not (theta_sgd==0).any()\n"
   ]
  },
  {
   "cell_type": "markdown",
   "metadata": {},
   "source": [
    "#### (b) Mini-batch gradient descent\n",
    "Implement mini-batch gradient descent and use this method to find the best fit parameters. Details:\n",
    "- use a mini-batch size of 20%\n",
    "- apply a similar learning schedule as in the SGD example (you might have to tune the learning hyperprameters)\n",
    "- perform 50 epochs \n",
    "- hint: the `numpy.random.permutation` function might be useful for creating the mini-batches. \n",
    "- Compare with the solutions from BGD and SGD."
   ]
  },
  {
   "cell_type": "code",
   "execution_count": 26,
   "metadata": {
    "deletable": false,
    "nbgrader": {
     "cell_type": "code",
     "checksum": "4667146537d278884f9a92df74d7fd65",
     "grade": false,
     "grade_id": "mbgd",
     "locked": false,
     "schema_version": 3,
     "solution": true,
     "task": false
    }
   },
   "outputs": [],
   "source": [
    "# Implement MBGD and use it to find the best-fit parameters\n",
    "#\n",
    "# At the end, the following array should contain the \n",
    "# best-fit parameters: \n",
    "# theta_0 (constant term), theta_1 (linear), theta_2 (quadratic)\n",
    "theta_mbgd = np.array([0., 0., 0.]) # Note the order\n",
    "\n",
    "# \n",
    "# YOUR CODE HERE\n",
    "# \n",
    "m = len(X)\n",
    "theta = np.random.rand(3)  # random initialization\n",
    "n_epochs = 50\n",
    "t0, t1 = 40, 150  # 5 10learning schedule hyperparameters, i have tried a lot of different ones but have found none that make the method converge :(\n",
    "def learning_schedule(t):\n",
    "    return t0 / (t + t1)\n",
    "\n",
    "theta_path_mbgd = []\n",
    "n = 0 # no of iterations\n",
    "for epoch in range(n_epochs):\n",
    "    index = np.arange(m)\n",
    "    np.random.shuffle(index)\n",
    "    index = np.split(index, 5)\n",
    "    \n",
    "    for indexes in index:\n",
    "        n +=1\n",
    "        gradient = np.ones(3)\n",
    "        gradient[0] = 1.0/len(indexes) * sum([(theta[0] + theta[1]*X[i] + theta[2]*X[i]**2 - y[i]) for i in indexes]) \n",
    "        gradient[1] = 1.0/len(indexes) * sum([(theta[0] + theta[1]*X[i] + theta[2]*X[i]**2 - y[i])*X[i] for i in indexes])\n",
    "        gradient[2] = 1.0/len(indexes) * sum([(theta[0] + theta[1]*X[i] + theta[2]*X[i]**2 - y[i])*X[i]**2 for i in indexes]) \n",
    "        eta = learning_schedule(n)\n",
    "        theta = theta - eta*gradient\n",
    "        theta_path_mbgd.append(theta)\n",
    "\n",
    "theta_mbgd = theta\n",
    "theta_path_mbgd = np.transpose(theta_path_mbgd)\n"
   ]
  },
  {
   "cell_type": "code",
   "execution_count": 27,
   "metadata": {
    "deletable": false,
    "editable": false,
    "nbgrader": {
     "cell_type": "code",
     "checksum": "5a209cb54e036d557dbf5558f08a836a",
     "grade": true,
     "grade_id": "correct_mbgd",
     "locked": true,
     "points": 1,
     "schema_version": 3,
     "solution": false,
     "task": false
    }
   },
   "outputs": [],
   "source": [
    "assert theta_mbgd.shape ==(3,)\n",
    "assert not (theta_mbgd==0).any()\n"
   ]
  },
  {
   "cell_type": "markdown",
   "metadata": {
    "deletable": false,
    "editable": false,
    "nbgrader": {
     "cell_type": "markdown",
     "checksum": "327eaecc1fc20d868526cf08dbcea29f",
     "grade": false,
     "grade_id": "gd_convergence",
     "locked": true,
     "points": 1,
     "schema_version": 3,
     "solution": false,
     "task": true
    }
   },
   "source": [
    "#### (c) Convergence\n",
    "Compare the convergence pattern for the BGD, SGD and MGD, i.e. plot the path towards the optimal set of parameters. \n",
    "- Note that the path is in 3D (since there are three parameters in our quadratic model). You can plot 2D projections of the path."
   ]
  },
  {
   "cell_type": "code",
   "execution_count": 28,
   "metadata": {
    "deletable": false,
    "nbgrader": {
     "cell_type": "code",
     "checksum": "0e0efe08e3dcb155147df8c8fe84fede",
     "grade": false,
     "grade_id": "cell-a0ed6a6e81042c13",
     "locked": false,
     "schema_version": 3,
     "solution": true,
     "task": false
    }
   },
   "outputs": [
    {
     "data": {
      "image/png": "[encoded data removed]",
      "text/plain": [
       "<Figure size 720x1440 with 3 Axes>"
      ]
     },
     "metadata": {
      "needs_background": "light"
     },
     "output_type": "display_data"
    }
   ],
   "source": [
    "# \n",
    "# YOUR CODE HERE\n",
    "# \n",
    "fig = plt.figure(figsize=(10,20))\n",
    "ax1 = fig.add_subplot(3,1,1)\n",
    "ax2 = fig.add_subplot(3,1,2)\n",
    "ax3 = fig.add_subplot(3,1,3)\n",
    "\n",
    "ax1.plot(np.arange(len(theta_path_sgd[0])), theta_path_sgd[0], \"b-\",label=\"SGD\")\n",
    "ax1.plot(np.arange(len(theta_path_bgd[0])), theta_path_bgd[0], \"r-\",label=\"BGD\")\n",
    "ax1.plot(np.arange(len(theta_path_mbgd[0])), theta_path_mbgd[0], \"g-\",label=\"MBGD\")\n",
    "#ax1.plot(theta_path_bgd[0], theta_path_bgd[1], \"g.\",label=\"wer\")\n",
    "\n",
    "ax2.plot(np.arange(len(theta_path_sgd[1])), theta_path_sgd[1], \"b-\",label=\"SGD\")\n",
    "ax2.plot(np.arange(len(theta_path_bgd[1])), theta_path_bgd[1], \"r-\",label=\"BGD\")\n",
    "ax2.plot(np.arange(len(theta_path_mbgd[1])), theta_path_mbgd[1], \"g-\",label=\"MBGD\")\n",
    "\n",
    "ax3.plot(np.arange(len(theta_path_sgd[2])), theta_path_sgd[2], \"b-\",label=\"SGD\")\n",
    "ax3.plot(np.arange(len(theta_path_bgd[2])), theta_path_bgd[2], \"r-\",label=\"BGD\")\n",
    "ax3.plot(np.arange(len(theta_path_mbgd[2])), theta_path_mbgd[2], \"g-\",label=\"MBGD\")\n",
    "\n",
    "\n",
    "ax1.set_xlabel('Number of iterations')\n",
    "ax1.set_ylabel('theta_0')\n",
    "ax1.legend(loc='best');\n",
    "\n",
    "ax2.set_xlabel('Number of iterations')\n",
    "ax2.set_ylabel('theta_1')\n",
    "ax2.legend(loc='best');\n",
    "\n",
    "ax3.set_xlabel('Number of iterations')\n",
    "ax3.set_ylabel('theta_2')\n",
    "ax3.legend(loc='best');\n",
    "\n",
    "\n",
    "\n"
   ]
  },
  {
   "cell_type": "markdown",
   "metadata": {},
   "source": [
    "BGD is quite slow, we get close to the same value of theta as we got in the solution to problem 2 but we cant have a very low tolerance or take very small steps since it takes too long. \n",
    "\n",
    "SGD is very erratic since we only take the gradiant of one point. It is a lot faster than BGD but we also don't get a very good value of theta. Perhaps it could get better with better learning parameters but this was the best I could manage.\n",
    "\n",
    "MBGD is a lot faster than BGD and much less erratic than SGD I was not able to find learning parameters that made it converge but I think it is because we have too few epochs.\n",
    "\n",
    "Notice that the SGD and MBGD plots changes when you run the program again."
   ]
  },
  {
   "cell_type": "code",
   "execution_count": null,
   "metadata": {},
   "outputs": [],
   "source": []
  }
 ],
 "metadata": {
  "kernelspec": {
   "display_name": "Python 3",
   "language": "python",
   "name": "python3"
  },
  "language_info": {
   "codemirror_mode": {
    "name": "ipython",
    "version": 3
   },
   "file_extension": ".py",
   "mimetype": "text/x-python",
   "name": "python",
   "nbconvert_exporter": "python",
   "pygments_lexer": "ipython3",
   "version": "3.7.8"
  },
  "nav_menu": {},
  "toc": {
   "navigate_menu": true,
   "number_sections": true,
   "sideBar": true,
   "threshold": 6,
   "toc_cell": false,
   "toc_section_display": "block",
   "toc_window_display": false
  }
 },
 "nbformat": 4,
 "nbformat_minor": 1
}
